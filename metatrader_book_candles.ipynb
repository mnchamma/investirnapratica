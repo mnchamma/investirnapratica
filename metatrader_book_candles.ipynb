
from datetime import datetime
import matplotlib.pyplot as plt
import pandas as pd
import MetaTrader5 as mt5
from matplotlib import style
import numpy as np


style.use('dark_background')


pd.set_option("display.max_rows", None)
pd.set_option("display.max_columns", None)


# connect to MetaTrader 5
if not mt5.initialize():
    print("initialize() failed")
    mt5.shutdown()
 
# request connection status and parameters
print(mt5.terminal_info())
# get data on MetaTrader 5 version
print(mt5.version())




symbol = 'WINZ23' 
 
# get bars from different symbols in a number of ways
dados = mt5.copy_rates_from(symbol, mt5.TIMEFRAME_M1,datetime.today(), 30)

#dados

book_list = []
book_df = pd.DataFrame()
#Subscribes the MetaTrader 5 terminal to the Market Depth change events for a specified symbol
# subscribe to market depth updates for EURUSD (Depth of Market)
if mt5.market_book_add(symbol):
    # get the market depth content (Depth of Market)
    items = mt5.market_book_get(symbol)
    # display the entire market depth 'as is' in a single string
    #print(items)
    # now display each order separately for more clarity
    if items:
        for it in items:
            # order content
            df_vez = pd.DataFrame(it._asdict(),index = [0])
            book_list.append(it._asdict())
            book_df = pd.concat([book_df,df_vez],axis=0)

  # cancel the subscription to the market depth updates (Depth of Market)
    mt5.market_book_release(symbol)
else:
    print("mt5.market_book_add {} failed, error code =".format(symbol),mt5.last_error())

 
#book_df

# create DataFrame out of the obtained data
bars_plot = pd.DataFrame(dados)

#bars_plot

# shut down connection to MetaTrader 5
mt5.shutdown()




bars_plot['time']= [datetime.fromtimestamp(x) for x in bars_plot['time'].values]

 
#PLOT

bars_plot = bars_plot.dropna()
#print(bars_plot)

fig, ax = plt.subplots(1,1, figsize = (18,8),sharex = True)


width = .4
width2 = .05
#define up and down prices
up = bars_plot[bars_plot.close>=bars_plot.open]
down = bars_plot[bars_plot.close<bars_plot.open]

#define colors to use
col1 = 'green'
col2 = 'red'

#plot up prices
ax.bar(up.index,up.close-up.open,width,bottom=up.open,color=col1)
ax.bar(up.index,up.high-up.close,width2,bottom=up.close,color=col1)
ax.bar(up.index,up.low-up.open,width2,bottom=up.open,color=col1)

#plot down prices
ax.bar(down.index,down.close-down.open,width,bottom=down.open,color=col2)
ax.bar(down.index,down.high-down.open,width2,bottom=down.open,color=col2)
ax.bar(down.index,down.low-down.close,width2,bottom=down.close,color=col2)


ax2 = ax.twiny()
offer = book_df.loc[book_df['type'] == 1]
bid = book_df.loc[book_df['type'] == 2]
ax2.barh(offer['price'],offer['volume'],height=5,align='edge',color = 'blue', alpha = 0.65)
ax2.barh(bid['price'],bid['volume'],height=5,align='edge',color = 'purple', alpha = 0.65)

#ax2.invert_yaxis()  # labels read top-to-bottom
ax2.invert_xaxis()  # labels read top-to-bottom
ax2.set_xlim(10*np.max(book_df['volume']),0)

# Hide Y axe tick marks
ax2.set_xticks([])

plt.suptitle('{} - 1_minute'.format(symbol),fontsize = 20) 
# display the chart
plt.show()

#### CONTRUIR UM GRÁFICO DE PREÇOS EM CANDLES COM O VOLUME DO BOOK ATUAL NO MESMO GRÁFICO
